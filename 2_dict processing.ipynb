{
 "cells": [
  {
   "cell_type": "code",
   "execution_count": null,
   "metadata": {},
   "outputs": [],
   "source": [
    "import pandas as pd\n",
    "from collections import defaultdict\n",
    "import json\n",
    "import itertools"
   ]
  },
  {
   "cell_type": "code",
   "execution_count": null,
   "metadata": {},
   "outputs": [],
   "source": [
    "df = pd.read_csv('raw_sen.csv', index_col=[0])"
   ]
  },
  {
   "cell_type": "code",
   "execution_count": null,
   "metadata": {},
   "outputs": [],
   "source": [
    "stop_file = 'stopwords.txt'\n",
    "\n",
    "with open(stop_file, 'r') as infile:\n",
    "    stop_words = [word.strip() for word in infile.readlines()]\n",
    "\n",
    "def sort_dict(d):\n",
    "    return {k: v for k, v in sorted(d.items(), key=lambda item: item[1], reverse=True)}\n",
    "\n",
    "def filter_tweet(tweet):\n",
    "    word_list = []\n",
    "    words = [word.strip().lower() for word in tweet.split()]\n",
    "    words_filtered = [word for word in words if word not in stop_words]\n",
    "    words_no_http = [word for word in words_filtered if not word.startswith('http')]\n",
    "    for word in words_no_http:\n",
    "        if len(word) > 2 and word != 'rt' and not word.startswith('&amp'):\n",
    "            word_list.append(word)\n",
    "    return word_list\n",
    "\n",
    "def create_dict(df, handles):\n",
    "    \n",
    "    big_dict = {}\n",
    "    #currently retweets are treated as tweets from the senator\n",
    "    for handle in handles: \n",
    "        handle_dict = defaultdict(int)\n",
    "        for tweet in df[df['handle'] == handle]['tweet']:\n",
    "            words = [w for w in filter_tweet(tweet)]\n",
    "            for word in words:\n",
    "                handle_dict[word] += 1\n",
    "        big_dict[handle] = sort_dict(handle_dict)\n",
    "    return big_dict  "
   ]
  },
  {
   "cell_type": "code",
   "execution_count": null,
   "metadata": {},
   "outputs": [],
   "source": [
    "df['tweet'][100]"
   ]
  },
  {
   "cell_type": "code",
   "execution_count": null,
   "metadata": {},
   "outputs": [],
   "source": [
    "print(filter_tweet(df['tweet'][100]))"
   ]
  },
  {
   "cell_type": "code",
   "execution_count": null,
   "metadata": {},
   "outputs": [],
   "source": [
    "sen_dict = create_dict(df, df['handle'].unique())"
   ]
  },
  {
   "cell_type": "code",
   "execution_count": null,
   "metadata": {},
   "outputs": [],
   "source": [
    "with open('sen_words.json', 'w') as fp:\n",
    "    json.dump(sen_dict, fp)"
   ]
  },
  {
   "cell_type": "code",
   "execution_count": null,
   "metadata": {},
   "outputs": [],
   "source": [
    "def combine_dicts(d):\n",
    "    t_dict = defaultdict(int)\n",
    "    for key in d.keys():\n",
    "        for word in d[key].keys():\n",
    "            t_dict[word] += d[key][word]\n",
    "    return t_dict\n",
    "\n",
    "def dict_word_limit(d, max_words):\n",
    "    import itertools\n",
    "    s_dict = sort_dict(d)\n",
    "    return sort_dict(dict(itertools.islice(s_dict.items(), max_words)))"
   ]
  },
  {
   "cell_type": "code",
   "execution_count": null,
   "metadata": {},
   "outputs": [],
   "source": [
    "sen_dict_combined = combine_dicts(sen_dict)"
   ]
  },
  {
   "cell_type": "code",
   "execution_count": null,
   "metadata": {},
   "outputs": [],
   "source": [
    "for num in [50,200,300,500,1000,2000,3000,5000,10000]:\n",
    "    sen_words_temp = dict_word_limit(sen_dict_combined, num)\n",
    "    \n",
    "    with open(f\"sen_words_{num}.json\", 'w') as fp:\n",
    "        json.dump(sen_words_temp, fp)"
   ]
  }
 ],
 "metadata": {
  "kernelspec": {
   "display_name": "Python 3",
   "language": "python",
   "name": "python3"
  },
  "language_info": {
   "codemirror_mode": {
    "name": "ipython",
    "version": 3
   },
   "file_extension": ".py",
   "mimetype": "text/x-python",
   "name": "python",
   "nbconvert_exporter": "python",
   "pygments_lexer": "ipython3",
   "version": "3.7.4"
  }
 },
 "nbformat": 4,
 "nbformat_minor": 4
}
