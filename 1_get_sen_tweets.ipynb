{
 "cells": [
  {
   "cell_type": "code",
   "execution_count": null,
   "metadata": {},
   "outputs": [],
   "source": [
    "import tweepy\n",
    "import pandas as pd"
   ]
  },
  {
   "cell_type": "code",
   "execution_count": null,
   "metadata": {},
   "outputs": [],
   "source": [
    "infile = 'us_sen.csv'\n",
    "\n",
    "with open(infile, 'r') as input:\n",
    "    input.readline()\n",
    "    raw_list = input.readlines()\n"
   ]
  },
  {
   "cell_type": "code",
   "execution_count": null,
   "metadata": {},
   "outputs": [],
   "source": [
    "sen_list = []\n",
    "for line in raw_list:\n",
    "    mini_list = line.strip().split(',')\n",
    "    sen_list.append(mini_list)"
   ]
  },
  {
   "cell_type": "code",
   "execution_count": null,
   "metadata": {},
   "outputs": [],
   "source": [
    "ACCESS_TOKEN = ''\n",
    "ACCESS_SECRET = ''\n",
    "CONSUMER_KEY = ''\n",
    "CONSUMER_SECRET = ''"
   ]
  },
  {
   "cell_type": "code",
   "execution_count": null,
   "metadata": {},
   "outputs": [],
   "source": [
    "# Setup access to API\n",
    "def connect_to_twitter_OAuth():\n",
    "    auth = tweepy.OAuthHandler(CONSUMER_KEY, CONSUMER_SECRET)\n",
    "    auth.set_access_token(ACCESS_TOKEN, ACCESS_SECRET)\n",
    "\n",
    "    api = tweepy.API(auth, wait_on_rate_limit=True, wait_on_rate_limit_notify=True)\n",
    "    return api\n",
    "\n",
    "# Create API object\n",
    "api = connect_to_twitter_OAuth()"
   ]
  },
  {
   "cell_type": "code",
   "execution_count": null,
   "metadata": {},
   "outputs": [],
   "source": [
    "tweet_list = []\n",
    "count = 1\n",
    "\n",
    "for state, name, handle, party in sen_list:\n",
    "    print(f\"Working on {state}: {name} ==> {count}/{len(sen_list)}\")\n",
    "    temp_tweets = tweepy.Cursor(api.user_timeline, id=handle, tweet_mode='extended', since_id='1213578392492290048').items()\n",
    "\n",
    "    tw_counter = 0\n",
    "    for status in temp_tweets:\n",
    "        tweet_list.append({'state': state, 'name': name, 'handle': handle, 'tweet': status.full_text, 'date':status.created_at,\n",
    "                           'source': status.source, 'tweet_id': status.id,\n",
    "                           'favorites': status.favorite_count, 'retweets': status.retweet_count,\n",
    "                           'party': party})\n",
    "        tw_counter += 1\n",
    "\n",
    "    print(f'{state}:{name} done! >>> {tw_counter} tweets found')\n",
    "    count += 1"
   ]
  },
  {
   "cell_type": "code",
   "execution_count": null,
   "metadata": {},
   "outputs": [],
   "source": [
    "df = pd.DataFrame(tweet_list, columns=['state', 'name', 'handle', 'tweet', 'date', 'source',\n",
    "                                       'tweet_id', 'favorites', 'retweets', 'party'])"
   ]
  },
  {
   "cell_type": "code",
   "execution_count": null,
   "metadata": {},
   "outputs": [],
   "source": [
    "df.to_csv('raw_sen.csv')"
   ]
  }
 ],
 "metadata": {
  "kernelspec": {
   "display_name": "Python 3",
   "language": "python",
   "name": "python3"
  },
  "language_info": {
   "codemirror_mode": {
    "name": "ipython",
    "version": 3
   },
   "file_extension": ".py",
   "mimetype": "text/x-python",
   "name": "python",
   "nbconvert_exporter": "python",
   "pygments_lexer": "ipython3",
   "version": "3.7.4"
  }
 },
 "nbformat": 4,
 "nbformat_minor": 4
}
